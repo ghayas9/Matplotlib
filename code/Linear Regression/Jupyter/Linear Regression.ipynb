{
 "cells": [
  {
   "cell_type": "code",
   "execution_count": 1,
   "id": "d13f57dc",
   "metadata": {},
   "outputs": [],
   "source": [
    "import matplotlib.pyplot as plt\n",
    "import numpy as np"
   ]
  },
  {
   "cell_type": "markdown",
   "id": "0ca1ee59",
   "metadata": {},
   "source": [
    "# Linear Regression Function"
   ]
  },
  {
   "cell_type": "code",
   "execution_count": 2,
   "id": "eb485c34",
   "metadata": {},
   "outputs": [],
   "source": [
    "def Simple_Linear_Regration(xt,yt):\n",
    "    sumofx=sum(xt)\n",
    "    \n",
    "    sumofy=sum(yt)\n",
    "    \n",
    "    xy=np.multiply(xt,yt)\n",
    "    sumofxy=sum(xy)\n",
    "\n",
    "    x2=np.square(xt)\n",
    "    sumofx2=sum(x2)\n",
    "    \n",
    "    b=((len(xt)*sumofxy)-(sumofx*sumofy))/(len(xt)*sumofx2-(sumofx**2))\n",
    "    \n",
    "    a=(sumofy-b*sumofx)/len(xt)\n",
    "    \n",
    "    my=[(a+b*i) for i in xt]\n",
    "    \n",
    "    err=sum(np.subtract(yt,my))\n",
    "    return a,b,err"
   ]
  },
  {
   "cell_type": "markdown",
   "id": "0dceac37",
   "metadata": {},
   "source": [
    "# Example  "
   ]
  },
  {
   "cell_type": "code",
   "execution_count": 7,
   "id": "c42daf36",
   "metadata": {},
   "outputs": [
    {
     "data": {
      "image/png": "[encoded data removed]",
      "text/plain": [
       "<Figure size 432x288 with 1 Axes>"
      ]
     },
     "metadata": {
      "needs_background": "light"
     },
     "output_type": "display_data"
    }
   ],
   "source": [
    "xt=np.random.rand(10)\n",
    "yt=np.random.rand(10)\n",
    "\n",
    "a,b,err=Simple_Linear_Regration(xt,yt)\n",
    "def l_r(x):\n",
    "    return a+b*x+err\n",
    "\n",
    "xf=np.random.rand(3)\n",
    "\n",
    "plt.plot(xt,list(map(l_r,xt)))\n",
    "plt.scatter(xt,yt)\n",
    "plt.scatter(xf,list(map(l_r,xf)))\n",
    "for x,y in zip(xf,list(map(l_r,xf))):\n",
    "    plt.annotate(f'({round(x,2)},{round(y,2)})', (x, y))\n",
    "plt.grid()"
   ]
  },
  {
   "cell_type": "code",
   "execution_count": null,
   "id": "3fcbb603",
   "metadata": {},
   "outputs": [],
   "source": []
  }
 ],
 "metadata": {
  "kernelspec": {
   "display_name": "Python 3 (ipykernel)",
   "language": "python",
   "name": "python3"
  },
  "language_info": {
   "codemirror_mode": {
    "name": "ipython",
    "version": 3
   },
   "file_extension": ".py",
   "mimetype": "text/x-python",
   "name": "python",
   "nbconvert_exporter": "python",
   "pygments_lexer": "ipython3",
   "version": "3.9.7"
  }
 },
 "nbformat": 4,
 "nbformat_minor": 5
}
